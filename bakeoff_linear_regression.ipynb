{
 "cells": [
  {
   "cell_type": "markdown",
   "metadata": {},
   "source": [
    "### Import necesssary libraries and CSVs"
   ]
  },
  {
   "cell_type": "code",
   "execution_count": 54,
   "metadata": {},
   "outputs": [],
   "source": [
    "import tools.helpers as th\n",
    "import tools.data_preparation as dp\n",
    "import numpy as np\n",
    "import pandas as pd\n",
    "from sklearn.metrics import r2_score\n",
    "from sklearn.linear_model import LinearRegression\n",
    "from sklearn.preprocessing import StandardScaler, OrdinalEncoder, OneHotEncoder, PolynomialFeatures\n",
    "\n",
    "X_train = pd.read_csv('data/bakeoff/Xtrain.csv')\n",
    "y_train = pd.read_csv('data/bakeoff/ytrain.csv')\n",
    "X_test = pd.read_csv('data/bakeoff/Xtest.csv')"
   ]
  },
  {
   "cell_type": "code",
   "execution_count": 55,
   "metadata": {},
   "outputs": [
    {
     "name": "stdout",
     "output_type": "stream",
     "text": [
      "(16197, 19)\n"
     ]
    }
   ],
   "source": [
    "print(X_train.shape)"
   ]
  },
  {
   "cell_type": "code",
   "execution_count": 56,
   "metadata": {},
   "outputs": [
    {
     "name": "stdout",
     "output_type": "stream",
     "text": [
      "(16197, 1)\n"
     ]
    }
   ],
   "source": [
    "print(y_train.shape)"
   ]
  },
  {
   "cell_type": "code",
   "execution_count": 57,
   "metadata": {},
   "outputs": [
    {
     "name": "stdout",
     "output_type": "stream",
     "text": [
      "(5400, 19)\n"
     ]
    }
   ],
   "source": [
    "print(X_test.shape)"
   ]
  },
  {
   "cell_type": "code",
   "execution_count": 58,
   "metadata": {},
   "outputs": [
    {
     "data": {
      "text/html": [
       "<div>\n",
       "<style scoped>\n",
       "    .dataframe tbody tr th:only-of-type {\n",
       "        vertical-align: middle;\n",
       "    }\n",
       "\n",
       "    .dataframe tbody tr th {\n",
       "        vertical-align: top;\n",
       "    }\n",
       "\n",
       "    .dataframe thead th {\n",
       "        text-align: right;\n",
       "    }\n",
       "</style>\n",
       "<table border=\"1\" class=\"dataframe\">\n",
       "  <thead>\n",
       "    <tr style=\"text-align: right;\">\n",
       "      <th></th>\n",
       "      <th>date</th>\n",
       "      <th>bedrooms</th>\n",
       "      <th>bathrooms</th>\n",
       "      <th>sqft_living</th>\n",
       "      <th>sqft_lot</th>\n",
       "      <th>floors</th>\n",
       "      <th>waterfront</th>\n",
       "      <th>view</th>\n",
       "      <th>condition</th>\n",
       "      <th>grade</th>\n",
       "      <th>sqft_above</th>\n",
       "      <th>sqft_basement</th>\n",
       "      <th>yr_built</th>\n",
       "      <th>yr_renovated</th>\n",
       "      <th>zipcode</th>\n",
       "      <th>lat</th>\n",
       "      <th>long</th>\n",
       "      <th>sqft_living15</th>\n",
       "      <th>sqft_lot15</th>\n",
       "    </tr>\n",
       "  </thead>\n",
       "  <tbody>\n",
       "    <tr>\n",
       "      <th>0</th>\n",
       "      <td>2/20/2015</td>\n",
       "      <td>3</td>\n",
       "      <td>0.75</td>\n",
       "      <td>850</td>\n",
       "      <td>8573</td>\n",
       "      <td>1.0</td>\n",
       "      <td>0.0</td>\n",
       "      <td>0.0</td>\n",
       "      <td>3</td>\n",
       "      <td>6</td>\n",
       "      <td>600</td>\n",
       "      <td>250.0</td>\n",
       "      <td>1945</td>\n",
       "      <td>0.0</td>\n",
       "      <td>98146</td>\n",
       "      <td>47.5030</td>\n",
       "      <td>-122.356</td>\n",
       "      <td>850</td>\n",
       "      <td>8382</td>\n",
       "    </tr>\n",
       "    <tr>\n",
       "      <th>1</th>\n",
       "      <td>10/8/2014</td>\n",
       "      <td>3</td>\n",
       "      <td>1.00</td>\n",
       "      <td>1510</td>\n",
       "      <td>6083</td>\n",
       "      <td>1.0</td>\n",
       "      <td>0.0</td>\n",
       "      <td>0.0</td>\n",
       "      <td>4</td>\n",
       "      <td>6</td>\n",
       "      <td>860</td>\n",
       "      <td>650.0</td>\n",
       "      <td>1940</td>\n",
       "      <td>0.0</td>\n",
       "      <td>98115</td>\n",
       "      <td>47.6966</td>\n",
       "      <td>-122.324</td>\n",
       "      <td>1510</td>\n",
       "      <td>5712</td>\n",
       "    </tr>\n",
       "    <tr>\n",
       "      <th>2</th>\n",
       "      <td>3/25/2015</td>\n",
       "      <td>4</td>\n",
       "      <td>2.25</td>\n",
       "      <td>1790</td>\n",
       "      <td>42000</td>\n",
       "      <td>1.0</td>\n",
       "      <td>0.0</td>\n",
       "      <td>0.0</td>\n",
       "      <td>3</td>\n",
       "      <td>7</td>\n",
       "      <td>1170</td>\n",
       "      <td>620.0</td>\n",
       "      <td>1983</td>\n",
       "      <td>0.0</td>\n",
       "      <td>98045</td>\n",
       "      <td>47.4819</td>\n",
       "      <td>-121.744</td>\n",
       "      <td>2060</td>\n",
       "      <td>50094</td>\n",
       "    </tr>\n",
       "    <tr>\n",
       "      <th>3</th>\n",
       "      <td>2/17/2015</td>\n",
       "      <td>2</td>\n",
       "      <td>1.50</td>\n",
       "      <td>1140</td>\n",
       "      <td>2500</td>\n",
       "      <td>1.0</td>\n",
       "      <td>0.0</td>\n",
       "      <td>1.0</td>\n",
       "      <td>3</td>\n",
       "      <td>7</td>\n",
       "      <td>630</td>\n",
       "      <td>510.0</td>\n",
       "      <td>1988</td>\n",
       "      <td>NaN</td>\n",
       "      <td>98106</td>\n",
       "      <td>47.5707</td>\n",
       "      <td>-122.359</td>\n",
       "      <td>1500</td>\n",
       "      <td>5000</td>\n",
       "    </tr>\n",
       "    <tr>\n",
       "      <th>4</th>\n",
       "      <td>5/23/2014</td>\n",
       "      <td>3</td>\n",
       "      <td>1.00</td>\n",
       "      <td>1500</td>\n",
       "      <td>3920</td>\n",
       "      <td>1.0</td>\n",
       "      <td>0.0</td>\n",
       "      <td>0.0</td>\n",
       "      <td>3</td>\n",
       "      <td>7</td>\n",
       "      <td>1000</td>\n",
       "      <td>500.0</td>\n",
       "      <td>1947</td>\n",
       "      <td>0.0</td>\n",
       "      <td>98107</td>\n",
       "      <td>47.6718</td>\n",
       "      <td>-122.359</td>\n",
       "      <td>1640</td>\n",
       "      <td>4017</td>\n",
       "    </tr>\n",
       "  </tbody>\n",
       "</table>\n",
       "</div>"
      ],
      "text/plain": [
       "        date  bedrooms  bathrooms  sqft_living  sqft_lot  floors  waterfront  \\\n",
       "0  2/20/2015         3       0.75          850      8573     1.0         0.0   \n",
       "1  10/8/2014         3       1.00         1510      6083     1.0         0.0   \n",
       "2  3/25/2015         4       2.25         1790     42000     1.0         0.0   \n",
       "3  2/17/2015         2       1.50         1140      2500     1.0         0.0   \n",
       "4  5/23/2014         3       1.00         1500      3920     1.0         0.0   \n",
       "\n",
       "   view  condition  grade  sqft_above sqft_basement  yr_built  yr_renovated  \\\n",
       "0   0.0          3      6         600         250.0      1945           0.0   \n",
       "1   0.0          4      6         860         650.0      1940           0.0   \n",
       "2   0.0          3      7        1170         620.0      1983           0.0   \n",
       "3   1.0          3      7         630         510.0      1988           NaN   \n",
       "4   0.0          3      7        1000         500.0      1947           0.0   \n",
       "\n",
       "   zipcode      lat     long  sqft_living15  sqft_lot15  \n",
       "0    98146  47.5030 -122.356            850        8382  \n",
       "1    98115  47.6966 -122.324           1510        5712  \n",
       "2    98045  47.4819 -121.744           2060       50094  \n",
       "3    98106  47.5707 -122.359           1500        5000  \n",
       "4    98107  47.6718 -122.359           1640        4017  "
      ]
     },
     "execution_count": 58,
     "metadata": {},
     "output_type": "execute_result"
    }
   ],
   "source": [
    "X_test.head()"
   ]
  },
  {
   "cell_type": "code",
   "execution_count": 59,
   "metadata": {},
   "outputs": [
    {
     "data": {
      "text/html": [
       "<div>\n",
       "<style scoped>\n",
       "    .dataframe tbody tr th:only-of-type {\n",
       "        vertical-align: middle;\n",
       "    }\n",
       "\n",
       "    .dataframe tbody tr th {\n",
       "        vertical-align: top;\n",
       "    }\n",
       "\n",
       "    .dataframe thead th {\n",
       "        text-align: right;\n",
       "    }\n",
       "</style>\n",
       "<table border=\"1\" class=\"dataframe\">\n",
       "  <thead>\n",
       "    <tr style=\"text-align: right;\">\n",
       "      <th></th>\n",
       "      <th>price</th>\n",
       "    </tr>\n",
       "  </thead>\n",
       "  <tbody>\n",
       "    <tr>\n",
       "      <th>0</th>\n",
       "      <td>529000.0</td>\n",
       "    </tr>\n",
       "    <tr>\n",
       "      <th>1</th>\n",
       "      <td>253000.0</td>\n",
       "    </tr>\n",
       "    <tr>\n",
       "      <th>2</th>\n",
       "      <td>745000.0</td>\n",
       "    </tr>\n",
       "    <tr>\n",
       "      <th>3</th>\n",
       "      <td>545000.0</td>\n",
       "    </tr>\n",
       "    <tr>\n",
       "      <th>4</th>\n",
       "      <td>390000.0</td>\n",
       "    </tr>\n",
       "  </tbody>\n",
       "</table>\n",
       "</div>"
      ],
      "text/plain": [
       "      price\n",
       "0  529000.0\n",
       "1  253000.0\n",
       "2  745000.0\n",
       "3  545000.0\n",
       "4  390000.0"
      ]
     },
     "execution_count": 59,
     "metadata": {},
     "output_type": "execute_result"
    }
   ],
   "source": [
    "y_train.head()"
   ]
  },
  {
   "cell_type": "code",
   "execution_count": 60,
   "metadata": {},
   "outputs": [
    {
     "data": {
      "text/html": [
       "<div>\n",
       "<style scoped>\n",
       "    .dataframe tbody tr th:only-of-type {\n",
       "        vertical-align: middle;\n",
       "    }\n",
       "\n",
       "    .dataframe tbody tr th {\n",
       "        vertical-align: top;\n",
       "    }\n",
       "\n",
       "    .dataframe thead th {\n",
       "        text-align: right;\n",
       "    }\n",
       "</style>\n",
       "<table border=\"1\" class=\"dataframe\">\n",
       "  <thead>\n",
       "    <tr style=\"text-align: right;\">\n",
       "      <th></th>\n",
       "      <th>bedrooms</th>\n",
       "      <th>sqft_living</th>\n",
       "      <th>floors</th>\n",
       "      <th>waterfront</th>\n",
       "      <th>view</th>\n",
       "      <th>condition</th>\n",
       "      <th>yr_built</th>\n",
       "      <th>yr_renovated</th>\n",
       "      <th>lat</th>\n",
       "      <th>long</th>\n",
       "    </tr>\n",
       "  </thead>\n",
       "  <tbody>\n",
       "    <tr>\n",
       "      <th>0</th>\n",
       "      <td>3</td>\n",
       "      <td>1880</td>\n",
       "      <td>2.0</td>\n",
       "      <td>0.0</td>\n",
       "      <td>0.0</td>\n",
       "      <td>3</td>\n",
       "      <td>1993</td>\n",
       "      <td>0.0</td>\n",
       "      <td>47.5664</td>\n",
       "      <td>-121.999</td>\n",
       "    </tr>\n",
       "    <tr>\n",
       "      <th>1</th>\n",
       "      <td>3</td>\n",
       "      <td>2020</td>\n",
       "      <td>1.0</td>\n",
       "      <td>0.0</td>\n",
       "      <td>0.0</td>\n",
       "      <td>3</td>\n",
       "      <td>1994</td>\n",
       "      <td>0.0</td>\n",
       "      <td>47.3545</td>\n",
       "      <td>-122.158</td>\n",
       "    </tr>\n",
       "    <tr>\n",
       "      <th>2</th>\n",
       "      <td>5</td>\n",
       "      <td>4720</td>\n",
       "      <td>2.0</td>\n",
       "      <td>0.0</td>\n",
       "      <td>0.0</td>\n",
       "      <td>5</td>\n",
       "      <td>1975</td>\n",
       "      <td>0.0</td>\n",
       "      <td>47.4536</td>\n",
       "      <td>-122.009</td>\n",
       "    </tr>\n",
       "    <tr>\n",
       "      <th>3</th>\n",
       "      <td>2</td>\n",
       "      <td>1430</td>\n",
       "      <td>1.0</td>\n",
       "      <td>0.0</td>\n",
       "      <td>0.0</td>\n",
       "      <td>4</td>\n",
       "      <td>1949</td>\n",
       "      <td>0.0</td>\n",
       "      <td>47.6844</td>\n",
       "      <td>-122.392</td>\n",
       "    </tr>\n",
       "    <tr>\n",
       "      <th>4</th>\n",
       "      <td>3</td>\n",
       "      <td>2270</td>\n",
       "      <td>1.0</td>\n",
       "      <td>0.0</td>\n",
       "      <td>0.0</td>\n",
       "      <td>4</td>\n",
       "      <td>1980</td>\n",
       "      <td>0.0</td>\n",
       "      <td>47.3451</td>\n",
       "      <td>-122.094</td>\n",
       "    </tr>\n",
       "  </tbody>\n",
       "</table>\n",
       "</div>"
      ],
      "text/plain": [
       "   bedrooms  sqft_living  floors  waterfront  view  condition  yr_built  \\\n",
       "0         3         1880     2.0         0.0   0.0          3      1993   \n",
       "1         3         2020     1.0         0.0   0.0          3      1994   \n",
       "2         5         4720     2.0         0.0   0.0          5      1975   \n",
       "3         2         1430     1.0         0.0   0.0          4      1949   \n",
       "4         3         2270     1.0         0.0   0.0          4      1980   \n",
       "\n",
       "   yr_renovated      lat     long  \n",
       "0           0.0  47.5664 -121.999  \n",
       "1           0.0  47.3545 -122.158  \n",
       "2           0.0  47.4536 -122.009  \n",
       "3           0.0  47.6844 -122.392  \n",
       "4           0.0  47.3451 -122.094  "
      ]
     },
     "execution_count": 60,
     "metadata": {},
     "output_type": "execute_result"
    }
   ],
   "source": [
    "# dp.add_distance(X_train)\n",
    "X_train = X_train.drop(columns=[\n",
    "    'date',\n",
    "    'sqft_above',\n",
    "    'grade',\n",
    "    'sqft_living15', \n",
    "    'sqft_lot15', \n",
    "    'sqft_lot', \n",
    "    'bathrooms',\n",
    "    'sqft_basement',\n",
    "    'zipcode'\n",
    "])\n",
    "X_train.head()"
   ]
  },
  {
   "cell_type": "code",
   "execution_count": 61,
   "metadata": {},
   "outputs": [
    {
     "data": {
      "text/html": [
       "<div>\n",
       "<style scoped>\n",
       "    .dataframe tbody tr th:only-of-type {\n",
       "        vertical-align: middle;\n",
       "    }\n",
       "\n",
       "    .dataframe tbody tr th {\n",
       "        vertical-align: top;\n",
       "    }\n",
       "\n",
       "    .dataframe thead th {\n",
       "        text-align: right;\n",
       "    }\n",
       "</style>\n",
       "<table border=\"1\" class=\"dataframe\">\n",
       "  <thead>\n",
       "    <tr style=\"text-align: right;\">\n",
       "      <th></th>\n",
       "      <th>bedrooms</th>\n",
       "      <th>sqft_living</th>\n",
       "      <th>floors</th>\n",
       "      <th>waterfront</th>\n",
       "      <th>view</th>\n",
       "      <th>condition</th>\n",
       "      <th>yr_built</th>\n",
       "      <th>yr_renovated</th>\n",
       "      <th>lat</th>\n",
       "      <th>long</th>\n",
       "    </tr>\n",
       "  </thead>\n",
       "  <tbody>\n",
       "    <tr>\n",
       "      <th>0</th>\n",
       "      <td>3</td>\n",
       "      <td>850</td>\n",
       "      <td>1.0</td>\n",
       "      <td>0.0</td>\n",
       "      <td>0.0</td>\n",
       "      <td>3</td>\n",
       "      <td>1945</td>\n",
       "      <td>0.0</td>\n",
       "      <td>47.5030</td>\n",
       "      <td>-122.356</td>\n",
       "    </tr>\n",
       "    <tr>\n",
       "      <th>1</th>\n",
       "      <td>3</td>\n",
       "      <td>1510</td>\n",
       "      <td>1.0</td>\n",
       "      <td>0.0</td>\n",
       "      <td>0.0</td>\n",
       "      <td>4</td>\n",
       "      <td>1940</td>\n",
       "      <td>0.0</td>\n",
       "      <td>47.6966</td>\n",
       "      <td>-122.324</td>\n",
       "    </tr>\n",
       "    <tr>\n",
       "      <th>2</th>\n",
       "      <td>4</td>\n",
       "      <td>1790</td>\n",
       "      <td>1.0</td>\n",
       "      <td>0.0</td>\n",
       "      <td>0.0</td>\n",
       "      <td>3</td>\n",
       "      <td>1983</td>\n",
       "      <td>0.0</td>\n",
       "      <td>47.4819</td>\n",
       "      <td>-121.744</td>\n",
       "    </tr>\n",
       "    <tr>\n",
       "      <th>3</th>\n",
       "      <td>2</td>\n",
       "      <td>1140</td>\n",
       "      <td>1.0</td>\n",
       "      <td>0.0</td>\n",
       "      <td>1.0</td>\n",
       "      <td>3</td>\n",
       "      <td>1988</td>\n",
       "      <td>NaN</td>\n",
       "      <td>47.5707</td>\n",
       "      <td>-122.359</td>\n",
       "    </tr>\n",
       "    <tr>\n",
       "      <th>4</th>\n",
       "      <td>3</td>\n",
       "      <td>1500</td>\n",
       "      <td>1.0</td>\n",
       "      <td>0.0</td>\n",
       "      <td>0.0</td>\n",
       "      <td>3</td>\n",
       "      <td>1947</td>\n",
       "      <td>0.0</td>\n",
       "      <td>47.6718</td>\n",
       "      <td>-122.359</td>\n",
       "    </tr>\n",
       "  </tbody>\n",
       "</table>\n",
       "</div>"
      ],
      "text/plain": [
       "   bedrooms  sqft_living  floors  waterfront  view  condition  yr_built  \\\n",
       "0         3          850     1.0         0.0   0.0          3      1945   \n",
       "1         3         1510     1.0         0.0   0.0          4      1940   \n",
       "2         4         1790     1.0         0.0   0.0          3      1983   \n",
       "3         2         1140     1.0         0.0   1.0          3      1988   \n",
       "4         3         1500     1.0         0.0   0.0          3      1947   \n",
       "\n",
       "   yr_renovated      lat     long  \n",
       "0           0.0  47.5030 -122.356  \n",
       "1           0.0  47.6966 -122.324  \n",
       "2           0.0  47.4819 -121.744  \n",
       "3           NaN  47.5707 -122.359  \n",
       "4           0.0  47.6718 -122.359  "
      ]
     },
     "execution_count": 61,
     "metadata": {},
     "output_type": "execute_result"
    }
   ],
   "source": [
    "X_test = X_test.drop(columns=[\n",
    "    'date',\n",
    "    'sqft_above',\n",
    "    'grade',\n",
    "    'sqft_living15', \n",
    "    'sqft_lot15', \n",
    "    'sqft_lot', \n",
    "    'bathrooms',\n",
    "    'sqft_basement',\n",
    "    'zipcode'\n",
    "])\n",
    "X_test.head()"
   ]
  },
  {
   "cell_type": "code",
   "execution_count": 62,
   "metadata": {},
   "outputs": [],
   "source": [
    "# log transform continuous variables\n",
    "to_log = ['sqft_living', 'lat'] # 'dist_from_center'\n",
    "th.log_transform(X_train, to_log)\n",
    "th.log_transform(X_test, to_log)"
   ]
  },
  {
   "cell_type": "code",
   "execution_count": 63,
   "metadata": {},
   "outputs": [
    {
     "data": {
      "text/html": [
       "<div>\n",
       "<style scoped>\n",
       "    .dataframe tbody tr th:only-of-type {\n",
       "        vertical-align: middle;\n",
       "    }\n",
       "\n",
       "    .dataframe tbody tr th {\n",
       "        vertical-align: top;\n",
       "    }\n",
       "\n",
       "    .dataframe thead th {\n",
       "        text-align: right;\n",
       "    }\n",
       "</style>\n",
       "<table border=\"1\" class=\"dataframe\">\n",
       "  <thead>\n",
       "    <tr style=\"text-align: right;\">\n",
       "      <th></th>\n",
       "      <th>bedrooms</th>\n",
       "      <th>sqft_living</th>\n",
       "      <th>floors</th>\n",
       "      <th>waterfront</th>\n",
       "      <th>view</th>\n",
       "      <th>condition</th>\n",
       "      <th>yr_built</th>\n",
       "      <th>yr_renovated</th>\n",
       "      <th>lat</th>\n",
       "      <th>long</th>\n",
       "    </tr>\n",
       "  </thead>\n",
       "  <tbody>\n",
       "    <tr>\n",
       "      <th>0</th>\n",
       "      <td>3</td>\n",
       "      <td>7.539027</td>\n",
       "      <td>2.0</td>\n",
       "      <td>0.0</td>\n",
       "      <td>0.0</td>\n",
       "      <td>3</td>\n",
       "      <td>1993</td>\n",
       "      <td>0.0</td>\n",
       "      <td>3.862127</td>\n",
       "      <td>-121.999</td>\n",
       "    </tr>\n",
       "    <tr>\n",
       "      <th>1</th>\n",
       "      <td>3</td>\n",
       "      <td>7.610853</td>\n",
       "      <td>1.0</td>\n",
       "      <td>0.0</td>\n",
       "      <td>0.0</td>\n",
       "      <td>3</td>\n",
       "      <td>1994</td>\n",
       "      <td>0.0</td>\n",
       "      <td>3.857662</td>\n",
       "      <td>-122.158</td>\n",
       "    </tr>\n",
       "    <tr>\n",
       "      <th>2</th>\n",
       "      <td>5</td>\n",
       "      <td>8.459564</td>\n",
       "      <td>2.0</td>\n",
       "      <td>0.0</td>\n",
       "      <td>0.0</td>\n",
       "      <td>5</td>\n",
       "      <td>1975</td>\n",
       "      <td>0.0</td>\n",
       "      <td>3.859752</td>\n",
       "      <td>-122.009</td>\n",
       "    </tr>\n",
       "    <tr>\n",
       "      <th>3</th>\n",
       "      <td>2</td>\n",
       "      <td>7.265430</td>\n",
       "      <td>1.0</td>\n",
       "      <td>0.0</td>\n",
       "      <td>0.0</td>\n",
       "      <td>4</td>\n",
       "      <td>1949</td>\n",
       "      <td>0.0</td>\n",
       "      <td>3.864604</td>\n",
       "      <td>-122.392</td>\n",
       "    </tr>\n",
       "    <tr>\n",
       "      <th>4</th>\n",
       "      <td>3</td>\n",
       "      <td>7.727535</td>\n",
       "      <td>1.0</td>\n",
       "      <td>0.0</td>\n",
       "      <td>0.0</td>\n",
       "      <td>4</td>\n",
       "      <td>1980</td>\n",
       "      <td>0.0</td>\n",
       "      <td>3.857463</td>\n",
       "      <td>-122.094</td>\n",
       "    </tr>\n",
       "  </tbody>\n",
       "</table>\n",
       "</div>"
      ],
      "text/plain": [
       "   bedrooms  sqft_living  floors  waterfront  view  condition  yr_built  \\\n",
       "0         3     7.539027     2.0         0.0   0.0          3      1993   \n",
       "1         3     7.610853     1.0         0.0   0.0          3      1994   \n",
       "2         5     8.459564     2.0         0.0   0.0          5      1975   \n",
       "3         2     7.265430     1.0         0.0   0.0          4      1949   \n",
       "4         3     7.727535     1.0         0.0   0.0          4      1980   \n",
       "\n",
       "   yr_renovated       lat     long  \n",
       "0           0.0  3.862127 -121.999  \n",
       "1           0.0  3.857662 -122.158  \n",
       "2           0.0  3.859752 -122.009  \n",
       "3           0.0  3.864604 -122.392  \n",
       "4           0.0  3.857463 -122.094  "
      ]
     },
     "execution_count": 63,
     "metadata": {},
     "output_type": "execute_result"
    }
   ],
   "source": [
    "X_train.head()"
   ]
  },
  {
   "cell_type": "code",
   "execution_count": 64,
   "metadata": {},
   "outputs": [
    {
     "data": {
      "text/plain": [
       "bedrooms          0\n",
       "sqft_living       0\n",
       "floors            0\n",
       "waterfront      620\n",
       "view             14\n",
       "condition         0\n",
       "yr_built          0\n",
       "yr_renovated    963\n",
       "lat               0\n",
       "long              0\n",
       "dtype: int64"
      ]
     },
     "execution_count": 64,
     "metadata": {},
     "output_type": "execute_result"
    }
   ],
   "source": [
    "X_test.isna().sum()"
   ]
  },
  {
   "cell_type": "code",
   "execution_count": 65,
   "metadata": {},
   "outputs": [
    {
     "data": {
      "text/plain": [
       "bedrooms           0\n",
       "sqft_living        0\n",
       "floors             0\n",
       "waterfront      1756\n",
       "view              49\n",
       "condition          0\n",
       "yr_built           0\n",
       "yr_renovated    2879\n",
       "lat                0\n",
       "long               0\n",
       "dtype: int64"
      ]
     },
     "execution_count": 65,
     "metadata": {},
     "output_type": "execute_result"
    }
   ],
   "source": [
    "X_train.isna().sum()"
   ]
  },
  {
   "cell_type": "code",
   "execution_count": 66,
   "metadata": {
    "scrolled": true
   },
   "outputs": [],
   "source": [
    "# fill na's in dataframe with the mode for each column\n",
    "th.mode_fill(X_test, column='waterfront')\n",
    "th.mode_fill(X_test, column='view')\n",
    "th.mode_fill(X_test, column='yr_renovated')\n",
    "th.mode_fill(X_train, column='waterfront')\n",
    "th.mode_fill(X_train, column='view')\n",
    "th.mode_fill(X_train, column='yr_renovated')"
   ]
  },
  {
   "cell_type": "code",
   "execution_count": 67,
   "metadata": {},
   "outputs": [
    {
     "data": {
      "text/plain": [
       "bedrooms        0\n",
       "sqft_living     0\n",
       "floors          0\n",
       "waterfront      0\n",
       "view            0\n",
       "condition       0\n",
       "yr_built        0\n",
       "yr_renovated    0\n",
       "lat             0\n",
       "long            0\n",
       "dtype: int64"
      ]
     },
     "execution_count": 67,
     "metadata": {},
     "output_type": "execute_result"
    }
   ],
   "source": [
    "X_test.isna().sum()"
   ]
  },
  {
   "cell_type": "code",
   "execution_count": 68,
   "metadata": {},
   "outputs": [
    {
     "data": {
      "text/plain": [
       "array([[ 1.00000000e+00,  3.00000000e+00,  7.53902706e+00, ...,\n",
       "         1.49160221e+01, -4.71175587e+02,  1.48837560e+04],\n",
       "       [ 1.00000000e+00,  3.00000000e+00,  7.61085279e+00, ...,\n",
       "         1.48815550e+01, -4.71244257e+02,  1.49225770e+04],\n",
       "       [ 1.00000000e+00,  5.00000000e+00,  8.45956408e+00, ...,\n",
       "         1.48976885e+01, -4.70924530e+02,  1.48861961e+04],\n",
       "       ...,\n",
       "       [ 1.00000000e+00,  4.00000000e+00,  7.33302301e+00, ...,\n",
       "         1.49294592e+01, -4.71036157e+02,  1.48615605e+04],\n",
       "       [ 1.00000000e+00,  1.00000000e+00,  5.94017125e+00, ...,\n",
       "         1.49021449e+01, -4.72207101e+02,  1.49629163e+04],\n",
       "       [ 1.00000000e+00,  4.00000000e+00,  7.92117272e+00, ...,\n",
       "         1.49440776e+01, -4.71487059e+02,  1.48754612e+04]])"
      ]
     },
     "execution_count": 68,
     "metadata": {},
     "output_type": "execute_result"
    }
   ],
   "source": [
    "poly_2 = PolynomialFeatures(2) # 2 is the degree of the polynomial features\n",
    "\n",
    "poly_2.fit_transform(X_train)"
   ]
  },
  {
   "cell_type": "code",
   "execution_count": 69,
   "metadata": {},
   "outputs": [
    {
     "data": {
      "text/plain": [
       "LinearRegression()"
      ]
     },
     "execution_count": 69,
     "metadata": {},
     "output_type": "execute_result"
    }
   ],
   "source": [
    "lr = LinearRegression()\n",
    "lr.fit(X_train, y_train)"
   ]
  },
  {
   "cell_type": "code",
   "execution_count": 70,
   "metadata": {},
   "outputs": [
    {
     "name": "stdout",
     "output_type": "stream",
     "text": [
      "Train Score: 0.5609666494764214\n"
     ]
    }
   ],
   "source": [
    "print('Train Score:', lr.score(X_train, y_train))\n",
    "#print('Validation Score:', lr.score(X_test, y_test))"
   ]
  },
  {
   "cell_type": "code",
   "execution_count": null,
   "metadata": {},
   "outputs": [],
   "source": []
  },
  {
   "cell_type": "code",
   "execution_count": null,
   "metadata": {},
   "outputs": [],
   "source": []
  },
  {
   "cell_type": "code",
   "execution_count": null,
   "metadata": {},
   "outputs": [],
   "source": []
  },
  {
   "cell_type": "code",
   "execution_count": null,
   "metadata": {},
   "outputs": [],
   "source": [
    "y_test_fake = np.full((5400,1), 0)\n",
    "\n",
    "\n",
    "# fake predictions using the mean of y_train.\n",
    "your_y_hat_predictions = np.full((5400,1), np.mean(y_train))\n",
    "\n",
    "r2_score(your_y_hat_predictions, y_test_fake)\n"
   ]
  },
  {
   "cell_type": "code",
   "execution_count": null,
   "metadata": {},
   "outputs": [],
   "source": [
    "np.savetxt('your_team_member_names.csv', your_y_hat_predictions, delimiter=',')"
   ]
  }
 ],
 "metadata": {
  "kernelspec": {
   "display_name": "Python (learn-env)",
   "language": "python",
   "name": "learn-env"
  },
  "language_info": {
   "codemirror_mode": {
    "name": "ipython",
    "version": 3
   },
   "file_extension": ".py",
   "mimetype": "text/x-python",
   "name": "python",
   "nbconvert_exporter": "python",
   "pygments_lexer": "ipython3",
   "version": "3.8.3"
  }
 },
 "nbformat": 4,
 "nbformat_minor": 4
}
