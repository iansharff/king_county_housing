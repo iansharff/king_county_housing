{
 "cells": [
  {
   "cell_type": "markdown",
   "metadata": {
    "colab_type": "text",
    "id": "view-in-github"
   },
   "source": [
    "<a href=\"https://colab.research.google.com/github/iansharff/king_county_housing/blob/main/P2_Project.ipynb\" target=\"_parent\"><img src=\"https://colab.research.google.com/assets/colab-badge.svg\" alt=\"Open In Colab\"/></a>"
   ]
  },
  {
   "cell_type": "markdown",
   "metadata": {
    "id": "toeVcIL61W5M"
   },
   "source": [
    "# **Phase 2 Project Notebook - King County House Sales Dataset**\n",
    "\n",
    "Authors: Ben M, Samantha, Ian, Sanjit"
   ]
  },
  {
   "cell_type": "markdown",
   "metadata": {
    "id": "-v4Qa_Qx2c6I"
   },
   "source": [
    "# **Table of Contents** <a name=\"🔝\"></a>\n",
    "\n",
    "\n",
    "[✨ To-Do's ✨](#td_main)\n",
    "\n",
    "\n",
    "*Markdown examples for use with later sections of NB*\n",
    "1. [Importing Packages and Reading Data](#imports)\n",
    "2. [Section 2](#s2)\n",
    "\n",
    "test\n",
    "test\n",
    "test\n"
   ]
  },
  {
   "cell_type": "markdown",
   "metadata": {
    "id": "xABMxGAz2c3n"
   },
   "source": [
    "## References and Reminders:\n",
    "\n",
    "---\n",
    "**Reference Links**\n",
    "\n",
    "[Project Launch Slides](#https://docs.google.com/presentation/d/1V35_n5Zof-KvfJvkbp8g847CGa9cK7hHLk-6VBUYULg/edit#slide=id.g8067c3178c_0_0)\n",
    "\n",
    "[Grading Rubric](https://docs.google.com/document/d/1ILvwpx8b9VvV8JLBc6FgZylTet5wNvyZFmpI67wk_8E/edit)\n",
    "\n",
    "[Project Templates Repo](https://github.com/BenJMcCarty/dsc-project-template)\n",
    "\n",
    "[Data Science Processes](#https://github.com/learn-co-curriculum/dsc-data-science-processes)\n",
    "\n",
    "---\n",
    "\n",
    "**REMINDER** To get datasets from external sources:\n",
    "\n",
    "1. [Go to GitHub repo](#https://github.com/BenJMcCarty/dsc-ols-statsmodels-lab)\n",
    "2. [Click on data file name in repository list](#https://github.com/BenJMcCarty/dsc-ols-statsmodels-lab/blob/master/advertising.csv)\n",
    "3. [Select \"raw\" from two buttons on left-side above the data](#https://raw.githubusercontent.com/BenJMcCarty/dsc-ols-statsmodels-lab/961d1d4a93790d2c09bcab561d8d2129cc2efa3a/advertising.csv)\n",
    "\n",
    "![image.png](data:image/png;base64,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)\n",
    "\n",
    "***To read data from the cloud into a JNB:***\n",
    "\n",
    "```\n",
    "file_url = 'https://raw.githubusercontent.com/BenJMcCarty/dsc-ols-statsmodels-lab/961d1d4a93790d2c09bcab561d8d2129cc2efa3a/advertising.csv'\n",
    "\n",
    "data = pd.read_csv(file_url, index_col=0)\n",
    "```\n"
   ]
  },
  {
   "cell_type": "markdown",
   "metadata": {
    "id": "FShWp4P-2c1O"
   },
   "source": [
    "# ✨ To-Do's ✨ <a name=\"td_main\"></a>\n",
    "\n",
    ">* ❗ - Review and update these sections\n",
    ">* **Test**\n",
    ">* *Test*\n",
    "---\n",
    "\n",
    ">* ❗ [Section 1](#s1)\n",
    ">* ❗ [Section 2](#s2)\n",
    ">* ❗ [Section 3](#s3)\n",
    ">* ❗ [Section 4](#s4)\n",
    ">* ❗ [Section 5](#s5)\n",
    ">* ❗ [Section 6](#s6)\n",
    ">* ❗ [Section 7](#s7)\n"
   ]
  },
  {
   "cell_type": "markdown",
   "metadata": {
    "id": "ts6Jzl_z5gJV"
   },
   "source": [
    "# Importing Packages and Reading Data <a name=\"imports\"></a>"
   ]
  },
  {
   "cell_type": "markdown",
   "metadata": {
    "id": "VSzCs9SB6p45"
   },
   "source": [
    "# Section 2 <a name=\"s2\"></a>"
   ]
  },
  {
   "cell_type": "markdown",
   "metadata": {
    "id": "IHN3MY4B6p0h"
   },
   "source": []
  },
  {
   "cell_type": "code",
   "execution_count": 11,
   "metadata": {},
   "outputs": [],
   "source": [
    "import pandas as pd\n",
    "import matplotlib.pyplot as plt"
   ]
  },
  {
   "cell_type": "code",
   "execution_count": 12,
   "metadata": {},
   "outputs": [],
   "source": [
    "df = pd.read_csv('data/kc_house_data.csv')"
   ]
  },
  {
   "cell_type": "code",
   "execution_count": 13,
   "metadata": {},
   "outputs": [
    {
     "name": "stdout",
     "output_type": "stream",
     "text": [
      "<class 'pandas.core.frame.DataFrame'>\n",
      "RangeIndex: 21597 entries, 0 to 21596\n",
      "Data columns (total 21 columns):\n",
      " #   Column         Non-Null Count  Dtype  \n",
      "---  ------         --------------  -----  \n",
      " 0   id             21597 non-null  int64  \n",
      " 1   date           21597 non-null  object \n",
      " 2   price          21597 non-null  float64\n",
      " 3   bedrooms       21597 non-null  int64  \n",
      " 4   bathrooms      21597 non-null  float64\n",
      " 5   sqft_living    21597 non-null  int64  \n",
      " 6   sqft_lot       21597 non-null  int64  \n",
      " 7   floors         21597 non-null  float64\n",
      " 8   waterfront     19221 non-null  float64\n",
      " 9   view           21534 non-null  float64\n",
      " 10  condition      21597 non-null  int64  \n",
      " 11  grade          21597 non-null  int64  \n",
      " 12  sqft_above     21597 non-null  int64  \n",
      " 13  sqft_basement  21597 non-null  object \n",
      " 14  yr_built       21597 non-null  int64  \n",
      " 15  yr_renovated   17755 non-null  float64\n",
      " 16  zipcode        21597 non-null  int64  \n",
      " 17  lat            21597 non-null  float64\n",
      " 18  long           21597 non-null  float64\n",
      " 19  sqft_living15  21597 non-null  int64  \n",
      " 20  sqft_lot15     21597 non-null  int64  \n",
      "dtypes: float64(8), int64(11), object(2)\n",
      "memory usage: 3.5+ MB\n"
     ]
    }
   ],
   "source": [
    "df.info()"
   ]
  },
  {
   "cell_type": "code",
   "execution_count": 14,
   "metadata": {},
   "outputs": [],
   "source": [
    "columns = [a for a in df.columns]"
   ]
  },
  {
   "cell_type": "code",
   "execution_count": 15,
   "metadata": {},
   "outputs": [
    {
     "data": {
      "text/plain": [
       "['id',\n",
       " 'date',\n",
       " 'price',\n",
       " 'bedrooms',\n",
       " 'bathrooms',\n",
       " 'sqft_living',\n",
       " 'sqft_lot',\n",
       " 'floors',\n",
       " 'waterfront',\n",
       " 'view',\n",
       " 'condition',\n",
       " 'grade',\n",
       " 'sqft_above',\n",
       " 'sqft_basement',\n",
       " 'yr_built',\n",
       " 'yr_renovated',\n",
       " 'zipcode',\n",
       " 'lat',\n",
       " 'long',\n",
       " 'sqft_living15',\n",
       " 'sqft_lot15']"
      ]
     },
     "execution_count": 15,
     "metadata": {},
     "output_type": "execute_result"
    }
   ],
   "source": [
    "columns"
   ]
  },
  {
   "cell_type": "code",
   "execution_count": 16,
   "metadata": {},
   "outputs": [
    {
     "data": {
      "text/html": [
       "<div>\n",
       "<style scoped>\n",
       "    .dataframe tbody tr th:only-of-type {\n",
       "        vertical-align: middle;\n",
       "    }\n",
       "\n",
       "    .dataframe tbody tr th {\n",
       "        vertical-align: top;\n",
       "    }\n",
       "\n",
       "    .dataframe thead th {\n",
       "        text-align: right;\n",
       "    }\n",
       "</style>\n",
       "<table border=\"1\" class=\"dataframe\">\n",
       "  <thead>\n",
       "    <tr style=\"text-align: right;\">\n",
       "      <th></th>\n",
       "      <th>id</th>\n",
       "      <th>date</th>\n",
       "      <th>bedrooms</th>\n",
       "      <th>bathrooms</th>\n",
       "      <th>sqft_living</th>\n",
       "      <th>sqft_lot</th>\n",
       "      <th>floors</th>\n",
       "      <th>waterfront</th>\n",
       "      <th>view</th>\n",
       "      <th>condition</th>\n",
       "      <th>grade</th>\n",
       "      <th>sqft_above</th>\n",
       "      <th>sqft_basement</th>\n",
       "      <th>yr_built</th>\n",
       "      <th>yr_renovated</th>\n",
       "      <th>zipcode</th>\n",
       "      <th>lat</th>\n",
       "      <th>long</th>\n",
       "      <th>sqft_living15</th>\n",
       "      <th>sqft_lot15</th>\n",
       "    </tr>\n",
       "  </thead>\n",
       "  <tbody>\n",
       "    <tr>\n",
       "      <th>0</th>\n",
       "      <td>7129300520</td>\n",
       "      <td>10/13/2014</td>\n",
       "      <td>3</td>\n",
       "      <td>1.00</td>\n",
       "      <td>1180</td>\n",
       "      <td>5650</td>\n",
       "      <td>1.0</td>\n",
       "      <td>NaN</td>\n",
       "      <td>0.0</td>\n",
       "      <td>3</td>\n",
       "      <td>7</td>\n",
       "      <td>1180</td>\n",
       "      <td>0.0</td>\n",
       "      <td>1955</td>\n",
       "      <td>0.0</td>\n",
       "      <td>98178</td>\n",
       "      <td>47.5112</td>\n",
       "      <td>-122.257</td>\n",
       "      <td>1340</td>\n",
       "      <td>5650</td>\n",
       "    </tr>\n",
       "    <tr>\n",
       "      <th>1</th>\n",
       "      <td>6414100192</td>\n",
       "      <td>12/9/2014</td>\n",
       "      <td>3</td>\n",
       "      <td>2.25</td>\n",
       "      <td>2570</td>\n",
       "      <td>7242</td>\n",
       "      <td>2.0</td>\n",
       "      <td>0.0</td>\n",
       "      <td>0.0</td>\n",
       "      <td>3</td>\n",
       "      <td>7</td>\n",
       "      <td>2170</td>\n",
       "      <td>400.0</td>\n",
       "      <td>1951</td>\n",
       "      <td>1991.0</td>\n",
       "      <td>98125</td>\n",
       "      <td>47.7210</td>\n",
       "      <td>-122.319</td>\n",
       "      <td>1690</td>\n",
       "      <td>7639</td>\n",
       "    </tr>\n",
       "    <tr>\n",
       "      <th>2</th>\n",
       "      <td>5631500400</td>\n",
       "      <td>2/25/2015</td>\n",
       "      <td>2</td>\n",
       "      <td>1.00</td>\n",
       "      <td>770</td>\n",
       "      <td>10000</td>\n",
       "      <td>1.0</td>\n",
       "      <td>0.0</td>\n",
       "      <td>0.0</td>\n",
       "      <td>3</td>\n",
       "      <td>6</td>\n",
       "      <td>770</td>\n",
       "      <td>0.0</td>\n",
       "      <td>1933</td>\n",
       "      <td>NaN</td>\n",
       "      <td>98028</td>\n",
       "      <td>47.7379</td>\n",
       "      <td>-122.233</td>\n",
       "      <td>2720</td>\n",
       "      <td>8062</td>\n",
       "    </tr>\n",
       "    <tr>\n",
       "      <th>3</th>\n",
       "      <td>2487200875</td>\n",
       "      <td>12/9/2014</td>\n",
       "      <td>4</td>\n",
       "      <td>3.00</td>\n",
       "      <td>1960</td>\n",
       "      <td>5000</td>\n",
       "      <td>1.0</td>\n",
       "      <td>0.0</td>\n",
       "      <td>0.0</td>\n",
       "      <td>5</td>\n",
       "      <td>7</td>\n",
       "      <td>1050</td>\n",
       "      <td>910.0</td>\n",
       "      <td>1965</td>\n",
       "      <td>0.0</td>\n",
       "      <td>98136</td>\n",
       "      <td>47.5208</td>\n",
       "      <td>-122.393</td>\n",
       "      <td>1360</td>\n",
       "      <td>5000</td>\n",
       "    </tr>\n",
       "    <tr>\n",
       "      <th>4</th>\n",
       "      <td>1954400510</td>\n",
       "      <td>2/18/2015</td>\n",
       "      <td>3</td>\n",
       "      <td>2.00</td>\n",
       "      <td>1680</td>\n",
       "      <td>8080</td>\n",
       "      <td>1.0</td>\n",
       "      <td>0.0</td>\n",
       "      <td>0.0</td>\n",
       "      <td>3</td>\n",
       "      <td>8</td>\n",
       "      <td>1680</td>\n",
       "      <td>0.0</td>\n",
       "      <td>1987</td>\n",
       "      <td>0.0</td>\n",
       "      <td>98074</td>\n",
       "      <td>47.6168</td>\n",
       "      <td>-122.045</td>\n",
       "      <td>1800</td>\n",
       "      <td>7503</td>\n",
       "    </tr>\n",
       "    <tr>\n",
       "      <th>...</th>\n",
       "      <td>...</td>\n",
       "      <td>...</td>\n",
       "      <td>...</td>\n",
       "      <td>...</td>\n",
       "      <td>...</td>\n",
       "      <td>...</td>\n",
       "      <td>...</td>\n",
       "      <td>...</td>\n",
       "      <td>...</td>\n",
       "      <td>...</td>\n",
       "      <td>...</td>\n",
       "      <td>...</td>\n",
       "      <td>...</td>\n",
       "      <td>...</td>\n",
       "      <td>...</td>\n",
       "      <td>...</td>\n",
       "      <td>...</td>\n",
       "      <td>...</td>\n",
       "      <td>...</td>\n",
       "      <td>...</td>\n",
       "    </tr>\n",
       "    <tr>\n",
       "      <th>21592</th>\n",
       "      <td>263000018</td>\n",
       "      <td>5/21/2014</td>\n",
       "      <td>3</td>\n",
       "      <td>2.50</td>\n",
       "      <td>1530</td>\n",
       "      <td>1131</td>\n",
       "      <td>3.0</td>\n",
       "      <td>0.0</td>\n",
       "      <td>0.0</td>\n",
       "      <td>3</td>\n",
       "      <td>8</td>\n",
       "      <td>1530</td>\n",
       "      <td>0.0</td>\n",
       "      <td>2009</td>\n",
       "      <td>0.0</td>\n",
       "      <td>98103</td>\n",
       "      <td>47.6993</td>\n",
       "      <td>-122.346</td>\n",
       "      <td>1530</td>\n",
       "      <td>1509</td>\n",
       "    </tr>\n",
       "    <tr>\n",
       "      <th>21593</th>\n",
       "      <td>6600060120</td>\n",
       "      <td>2/23/2015</td>\n",
       "      <td>4</td>\n",
       "      <td>2.50</td>\n",
       "      <td>2310</td>\n",
       "      <td>5813</td>\n",
       "      <td>2.0</td>\n",
       "      <td>0.0</td>\n",
       "      <td>0.0</td>\n",
       "      <td>3</td>\n",
       "      <td>8</td>\n",
       "      <td>2310</td>\n",
       "      <td>0.0</td>\n",
       "      <td>2014</td>\n",
       "      <td>0.0</td>\n",
       "      <td>98146</td>\n",
       "      <td>47.5107</td>\n",
       "      <td>-122.362</td>\n",
       "      <td>1830</td>\n",
       "      <td>7200</td>\n",
       "    </tr>\n",
       "    <tr>\n",
       "      <th>21594</th>\n",
       "      <td>1523300141</td>\n",
       "      <td>6/23/2014</td>\n",
       "      <td>2</td>\n",
       "      <td>0.75</td>\n",
       "      <td>1020</td>\n",
       "      <td>1350</td>\n",
       "      <td>2.0</td>\n",
       "      <td>0.0</td>\n",
       "      <td>0.0</td>\n",
       "      <td>3</td>\n",
       "      <td>7</td>\n",
       "      <td>1020</td>\n",
       "      <td>0.0</td>\n",
       "      <td>2009</td>\n",
       "      <td>0.0</td>\n",
       "      <td>98144</td>\n",
       "      <td>47.5944</td>\n",
       "      <td>-122.299</td>\n",
       "      <td>1020</td>\n",
       "      <td>2007</td>\n",
       "    </tr>\n",
       "    <tr>\n",
       "      <th>21595</th>\n",
       "      <td>291310100</td>\n",
       "      <td>1/16/2015</td>\n",
       "      <td>3</td>\n",
       "      <td>2.50</td>\n",
       "      <td>1600</td>\n",
       "      <td>2388</td>\n",
       "      <td>2.0</td>\n",
       "      <td>NaN</td>\n",
       "      <td>0.0</td>\n",
       "      <td>3</td>\n",
       "      <td>8</td>\n",
       "      <td>1600</td>\n",
       "      <td>0.0</td>\n",
       "      <td>2004</td>\n",
       "      <td>0.0</td>\n",
       "      <td>98027</td>\n",
       "      <td>47.5345</td>\n",
       "      <td>-122.069</td>\n",
       "      <td>1410</td>\n",
       "      <td>1287</td>\n",
       "    </tr>\n",
       "    <tr>\n",
       "      <th>21596</th>\n",
       "      <td>1523300157</td>\n",
       "      <td>10/15/2014</td>\n",
       "      <td>2</td>\n",
       "      <td>0.75</td>\n",
       "      <td>1020</td>\n",
       "      <td>1076</td>\n",
       "      <td>2.0</td>\n",
       "      <td>0.0</td>\n",
       "      <td>0.0</td>\n",
       "      <td>3</td>\n",
       "      <td>7</td>\n",
       "      <td>1020</td>\n",
       "      <td>0.0</td>\n",
       "      <td>2008</td>\n",
       "      <td>0.0</td>\n",
       "      <td>98144</td>\n",
       "      <td>47.5941</td>\n",
       "      <td>-122.299</td>\n",
       "      <td>1020</td>\n",
       "      <td>1357</td>\n",
       "    </tr>\n",
       "  </tbody>\n",
       "</table>\n",
       "<p>21597 rows × 20 columns</p>\n",
       "</div>"
      ],
      "text/plain": [
       "               id        date  bedrooms  bathrooms  sqft_living  sqft_lot  \\\n",
       "0      7129300520  10/13/2014         3       1.00         1180      5650   \n",
       "1      6414100192   12/9/2014         3       2.25         2570      7242   \n",
       "2      5631500400   2/25/2015         2       1.00          770     10000   \n",
       "3      2487200875   12/9/2014         4       3.00         1960      5000   \n",
       "4      1954400510   2/18/2015         3       2.00         1680      8080   \n",
       "...           ...         ...       ...        ...          ...       ...   \n",
       "21592   263000018   5/21/2014         3       2.50         1530      1131   \n",
       "21593  6600060120   2/23/2015         4       2.50         2310      5813   \n",
       "21594  1523300141   6/23/2014         2       0.75         1020      1350   \n",
       "21595   291310100   1/16/2015         3       2.50         1600      2388   \n",
       "21596  1523300157  10/15/2014         2       0.75         1020      1076   \n",
       "\n",
       "       floors  waterfront  view  condition  grade  sqft_above sqft_basement  \\\n",
       "0         1.0         NaN   0.0          3      7        1180           0.0   \n",
       "1         2.0         0.0   0.0          3      7        2170         400.0   \n",
       "2         1.0         0.0   0.0          3      6         770           0.0   \n",
       "3         1.0         0.0   0.0          5      7        1050         910.0   \n",
       "4         1.0         0.0   0.0          3      8        1680           0.0   \n",
       "...       ...         ...   ...        ...    ...         ...           ...   \n",
       "21592     3.0         0.0   0.0          3      8        1530           0.0   \n",
       "21593     2.0         0.0   0.0          3      8        2310           0.0   \n",
       "21594     2.0         0.0   0.0          3      7        1020           0.0   \n",
       "21595     2.0         NaN   0.0          3      8        1600           0.0   \n",
       "21596     2.0         0.0   0.0          3      7        1020           0.0   \n",
       "\n",
       "       yr_built  yr_renovated  zipcode      lat     long  sqft_living15  \\\n",
       "0          1955           0.0    98178  47.5112 -122.257           1340   \n",
       "1          1951        1991.0    98125  47.7210 -122.319           1690   \n",
       "2          1933           NaN    98028  47.7379 -122.233           2720   \n",
       "3          1965           0.0    98136  47.5208 -122.393           1360   \n",
       "4          1987           0.0    98074  47.6168 -122.045           1800   \n",
       "...         ...           ...      ...      ...      ...            ...   \n",
       "21592      2009           0.0    98103  47.6993 -122.346           1530   \n",
       "21593      2014           0.0    98146  47.5107 -122.362           1830   \n",
       "21594      2009           0.0    98144  47.5944 -122.299           1020   \n",
       "21595      2004           0.0    98027  47.5345 -122.069           1410   \n",
       "21596      2008           0.0    98144  47.5941 -122.299           1020   \n",
       "\n",
       "       sqft_lot15  \n",
       "0            5650  \n",
       "1            7639  \n",
       "2            8062  \n",
       "3            5000  \n",
       "4            7503  \n",
       "...           ...  \n",
       "21592        1509  \n",
       "21593        7200  \n",
       "21594        2007  \n",
       "21595        1287  \n",
       "21596        1357  \n",
       "\n",
       "[21597 rows x 20 columns]"
      ]
     },
     "execution_count": 16,
     "metadata": {},
     "output_type": "execute_result"
    }
   ],
   "source": [
    "train = pd.read_csv('data/kc_house_data.csv')\n",
    "test = pd.read_csv('data/kc_house_data.csv')\n",
    "\n",
    "X_train = train.drop(\"price\", axis=1)\n",
    "y_train = train[\"price\"]\n",
    "\n",
    "X_test = test.drop(\"price\", axis=1)\n",
    "y_test = test[\"price\"]\n",
    "\n",
    "X_train"
   ]
  },
  {
   "cell_type": "code",
   "execution_count": 17,
   "metadata": {},
   "outputs": [
    {
     "data": {
      "image/png": "[encoded data removed]",
      "text/plain": [
       "<Figure size 360x576 with 2 Axes>"
      ]
     },
     "metadata": {
      "needs_background": "light"
     },
     "output_type": "display_data"
    }
   ],
   "source": [
    "# Run this cell without changes\n",
    "\n",
    "import seaborn as sns\n",
    "import numpy as np\n",
    "\n",
    "# Create a df with the target as the first column,\n",
    "# then compute the correlation matrix\n",
    "heatmap_data = pd.concat([y_train, X_train], axis=1)\n",
    "corr = heatmap_data.corr()\n",
    "\n",
    "# Set up figure and axes\n",
    "fig, ax = plt.subplots(figsize=(5, 8))\n",
    "\n",
    "# Plot a heatmap of the correlation matrix, with both\n",
    "# numbers and colors indicating the correlations\n",
    "sns.heatmap(\n",
    "    # Specifies the data to be plotted\n",
    "    data=corr,\n",
    "    # The mask means we only show half the values,\n",
    "    # instead of showing duplicates. It's optional.\n",
    "    mask=np.triu(np.ones_like(corr, dtype=bool)),\n",
    "    # Specifies that we should use the existing axes\n",
    "    ax=ax,\n",
    "    # Specifies that we want labels, not just colors\n",
    "    annot=True,\n",
    "    # Customizes colorbar appearance\n",
    "    cbar_kws={\"label\": \"Correlation\", \"orientation\": \"horizontal\", \"pad\": .2, \"extend\": \"both\"}\n",
    ")\n",
    "\n",
    "# Customize the plot appearance\n",
    "ax.set_title(\"Heatmap of Correlation Between Attributes (Including Target)\");"
   ]
  },
  {
   "cell_type": "code",
   "execution_count": 18,
   "metadata": {},
   "outputs": [],
   "source": [
    "target_data = pd.concat([y_train, X_train], axis=1)\n",
    "correlate = target_data.corr()"
   ]
  },
  {
   "cell_type": "code",
   "execution_count": 28,
   "metadata": {},
   "outputs": [
    {
     "data": {
      "text/plain": [
       "zipcode         -0.053402\n",
       "id              -0.016772\n",
       "long             0.022036\n",
       "condition        0.036056\n",
       "yr_built         0.053953\n",
       "sqft_lot15       0.082845\n",
       "sqft_lot         0.089876\n",
       "yr_renovated     0.129599\n",
       "floors           0.256804\n",
       "waterfront       0.276295\n",
       "lat              0.306692\n",
       "bedrooms         0.308787\n",
       "view             0.395734\n",
       "bathrooms        0.525906\n",
       "sqft_living15    0.585241\n",
       "sqft_above       0.605368\n",
       "grade            0.667951\n",
       "sqft_living      0.701917\n",
       "price            1.000000\n",
       "Name: price, dtype: float64"
      ]
     },
     "execution_count": 28,
     "metadata": {},
     "output_type": "execute_result"
    }
   ],
   "source": [
    "correlate['price'].sort_values() "
   ]
  },
  {
   "cell_type": "code",
   "execution_count": 40,
   "metadata": {},
   "outputs": [
    {
     "data": {
      "text/plain": [
       "bathrooms        0.525906\n",
       "sqft_living15    0.585241\n",
       "sqft_above       0.605368\n",
       "grade            0.667951\n",
       "sqft_living      0.701917\n",
       "price            1.000000\n",
       "Name: price, dtype: float64"
      ]
     },
     "execution_count": 40,
     "metadata": {},
     "output_type": "execute_result"
    }
   ],
   "source": [
    "correlate[(correlate['price']>0.5)]['price'].sort_values()"
   ]
  },
  {
   "cell_type": "code",
   "execution_count": 78,
   "metadata": {},
   "outputs": [
    {
     "data": {
      "text/plain": [
       "zipcode        -0.053402\n",
       "id             -0.016772\n",
       "long            0.022036\n",
       "condition       0.036056\n",
       "yr_built        0.053953\n",
       "sqft_lot15      0.082845\n",
       "sqft_lot        0.089876\n",
       "yr_renovated    0.129599\n",
       "floors          0.256804\n",
       "waterfront      0.276295\n",
       "lat             0.306692\n",
       "bedrooms        0.308787\n",
       "view            0.395734\n",
       "Name: price, dtype: float64"
      ]
     },
     "execution_count": 78,
     "metadata": {},
     "output_type": "execute_result"
    }
   ],
   "source": [
    "correlate[(correlate['price']<0.5)]['price'].sort_values()"
   ]
  },
  {
   "cell_type": "code",
   "execution_count": 59,
   "metadata": {},
   "outputs": [
    {
     "data": {
      "text/plain": [
       "array([[<AxesSubplot:title={'center':'condition'}>]], dtype=object)"
      ]
     },
     "execution_count": 59,
     "metadata": {},
     "output_type": "execute_result"
    },
    {
     "data": {
      "image/png": "[encoded data removed]",
      "text/plain": [
       "<Figure size 432x288 with 1 Axes>"
      ]
     },
     "metadata": {
      "needs_background": "light"
     },
     "output_type": "display_data"
    }
   ],
   "source": [
    "df.hist('condition')"
   ]
  },
  {
   "cell_type": "code",
   "execution_count": 61,
   "metadata": {},
   "outputs": [
    {
     "data": {
      "text/plain": [
       "<AxesSubplot:xlabel='condition'>"
      ]
     },
     "execution_count": 61,
     "metadata": {},
     "output_type": "execute_result"
    },
    {
     "data": {
      "image/png": "[encoded data removed]",
      "text/plain": [
       "<Figure size 432x288 with 1 Axes>"
      ]
     },
     "metadata": {
      "needs_background": "light"
     },
     "output_type": "display_data"
    }
   ],
   "source": [
    "df.plot.bar(x ='condition', y = 'price')"
   ]
  },
  {
   "cell_type": "code",
   "execution_count": 73,
   "metadata": {},
   "outputs": [
    {
     "data": {
      "text/plain": [
       "341067.2413793103"
      ]
     },
     "execution_count": 73,
     "metadata": {},
     "output_type": "execute_result"
    }
   ],
   "source": [
    "df[df['condition']==1]['price'].mean()"
   ]
  },
  {
   "cell_type": "code",
   "execution_count": 77,
   "metadata": {},
   "outputs": [
    {
     "data": {
      "image/png": "[encoded data removed]",
      "text/plain": [
       "<Figure size 720x432 with 1 Axes>"
      ]
     },
     "metadata": {
      "needs_background": "light"
     },
     "output_type": "display_data"
    }
   ],
   "source": [
    "fig, ax = plt.subplots(figsize=(10,6))\n",
    "\n",
    "width = 0.1\n",
    "\n",
    "one = ax.bar(df[df['condition']==1]['condition'], df[df['condition']==1]['price'].mean(), width, label = 1, edgecolor = 'black')\n",
    "two = ax.bar(df[df['condition']==2]['condition'], df[df['condition']==2]['price'].mean(), width, label = 2, edgecolor = 'black')\n",
    "three = ax.bar(df[df['condition']==3]['condition'], df[df['condition']==3]['price'].mean(), width, label = 3, edgecolor = 'black')\n",
    "four = ax.bar(df[df['condition']==4]['condition'], df[df['condition']==4]['price'].mean(), width, label = 4, edgecolor = 'black')\n",
    "five = ax.bar(df[df['condition']==5]['condition'], df[df['condition']==5]['price'].mean(), width, label = 5, edgecolor = 'black')\n",
    "\n"
   ]
  },
  {
   "cell_type": "code",
   "execution_count": 80,
   "metadata": {},
   "outputs": [
    {
     "data": {
      "text/plain": [
       "0.0    19422\n",
       "2.0      957\n",
       "3.0      508\n",
       "1.0      330\n",
       "4.0      317\n",
       "Name: view, dtype: int64"
      ]
     },
     "execution_count": 80,
     "metadata": {},
     "output_type": "execute_result"
    }
   ],
   "source": [
    "df['view'].value_counts()"
   ]
  },
  {
   "cell_type": "code",
   "execution_count": 122,
   "metadata": {
    "scrolled": true
   },
   "outputs": [
    {
     "data": {
      "text/html": [
       "<div>\n",
       "<style scoped>\n",
       "    .dataframe tbody tr th:only-of-type {\n",
       "        vertical-align: middle;\n",
       "    }\n",
       "\n",
       "    .dataframe tbody tr th {\n",
       "        vertical-align: top;\n",
       "    }\n",
       "\n",
       "    .dataframe thead th {\n",
       "        text-align: right;\n",
       "    }\n",
       "</style>\n",
       "<table border=\"1\" class=\"dataframe\">\n",
       "  <thead>\n",
       "    <tr style=\"text-align: right;\">\n",
       "      <th></th>\n",
       "      <th>sqft_living</th>\n",
       "      <th>sqft_above</th>\n",
       "      <th>sqft_basement</th>\n",
       "    </tr>\n",
       "  </thead>\n",
       "  <tbody>\n",
       "    <tr>\n",
       "      <th>0</th>\n",
       "      <td>1180</td>\n",
       "      <td>1180</td>\n",
       "      <td>0.0</td>\n",
       "    </tr>\n",
       "    <tr>\n",
       "      <th>1</th>\n",
       "      <td>2570</td>\n",
       "      <td>2170</td>\n",
       "      <td>400.0</td>\n",
       "    </tr>\n",
       "    <tr>\n",
       "      <th>2</th>\n",
       "      <td>770</td>\n",
       "      <td>770</td>\n",
       "      <td>0.0</td>\n",
       "    </tr>\n",
       "    <tr>\n",
       "      <th>3</th>\n",
       "      <td>1960</td>\n",
       "      <td>1050</td>\n",
       "      <td>910.0</td>\n",
       "    </tr>\n",
       "    <tr>\n",
       "      <th>4</th>\n",
       "      <td>1680</td>\n",
       "      <td>1680</td>\n",
       "      <td>0.0</td>\n",
       "    </tr>\n",
       "    <tr>\n",
       "      <th>...</th>\n",
       "      <td>...</td>\n",
       "      <td>...</td>\n",
       "      <td>...</td>\n",
       "    </tr>\n",
       "    <tr>\n",
       "      <th>21592</th>\n",
       "      <td>1530</td>\n",
       "      <td>1530</td>\n",
       "      <td>0.0</td>\n",
       "    </tr>\n",
       "    <tr>\n",
       "      <th>21593</th>\n",
       "      <td>2310</td>\n",
       "      <td>2310</td>\n",
       "      <td>0.0</td>\n",
       "    </tr>\n",
       "    <tr>\n",
       "      <th>21594</th>\n",
       "      <td>1020</td>\n",
       "      <td>1020</td>\n",
       "      <td>0.0</td>\n",
       "    </tr>\n",
       "    <tr>\n",
       "      <th>21595</th>\n",
       "      <td>1600</td>\n",
       "      <td>1600</td>\n",
       "      <td>0.0</td>\n",
       "    </tr>\n",
       "    <tr>\n",
       "      <th>21596</th>\n",
       "      <td>1020</td>\n",
       "      <td>1020</td>\n",
       "      <td>0.0</td>\n",
       "    </tr>\n",
       "  </tbody>\n",
       "</table>\n",
       "<p>21597 rows × 3 columns</p>\n",
       "</div>"
      ],
      "text/plain": [
       "       sqft_living  sqft_above sqft_basement\n",
       "0             1180        1180           0.0\n",
       "1             2570        2170         400.0\n",
       "2              770         770           0.0\n",
       "3             1960        1050         910.0\n",
       "4             1680        1680           0.0\n",
       "...            ...         ...           ...\n",
       "21592         1530        1530           0.0\n",
       "21593         2310        2310           0.0\n",
       "21594         1020        1020           0.0\n",
       "21595         1600        1600           0.0\n",
       "21596         1020        1020           0.0\n",
       "\n",
       "[21597 rows x 3 columns]"
      ]
     },
     "execution_count": 122,
     "metadata": {},
     "output_type": "execute_result"
    }
   ],
   "source": [
    "aa = df[['sqft_living','sqft_above','sqft_basement']]\n",
    "\n",
    "#converted values from string to float\n",
    "#there are '?' values in the sqft_basement column that are still in string format.\n",
    "\n",
    "aa[aa['sqft_basement']!= '?']['sqft_basement'].map(lambda x:float(x))\n",
    "aa['sqft_living'].map(lambda x:float(x))\n",
    "aa['sqft_above'].map(lambda x:float(x))\n",
    "\n",
    "aa"
   ]
  },
  {
   "cell_type": "code",
   "execution_count": 154,
   "metadata": {},
   "outputs": [
    {
     "data": {
      "text/html": [
       "<div>\n",
       "<style scoped>\n",
       "    .dataframe tbody tr th:only-of-type {\n",
       "        vertical-align: middle;\n",
       "    }\n",
       "\n",
       "    .dataframe tbody tr th {\n",
       "        vertical-align: top;\n",
       "    }\n",
       "\n",
       "    .dataframe thead th {\n",
       "        text-align: right;\n",
       "    }\n",
       "</style>\n",
       "<table border=\"1\" class=\"dataframe\">\n",
       "  <thead>\n",
       "    <tr style=\"text-align: right;\">\n",
       "      <th></th>\n",
       "      <th>sqft_living</th>\n",
       "      <th>sqft_above</th>\n",
       "      <th>sqft_basement</th>\n",
       "    </tr>\n",
       "  </thead>\n",
       "  <tbody>\n",
       "    <tr>\n",
       "      <th>6</th>\n",
       "      <td>1715</td>\n",
       "      <td>1715</td>\n",
       "      <td>?</td>\n",
       "    </tr>\n",
       "    <tr>\n",
       "      <th>18</th>\n",
       "      <td>1200</td>\n",
       "      <td>1200</td>\n",
       "      <td>?</td>\n",
       "    </tr>\n",
       "    <tr>\n",
       "      <th>42</th>\n",
       "      <td>3595</td>\n",
       "      <td>3595</td>\n",
       "      <td>?</td>\n",
       "    </tr>\n",
       "    <tr>\n",
       "      <th>79</th>\n",
       "      <td>3450</td>\n",
       "      <td>3450</td>\n",
       "      <td>?</td>\n",
       "    </tr>\n",
       "    <tr>\n",
       "      <th>112</th>\n",
       "      <td>1540</td>\n",
       "      <td>1160</td>\n",
       "      <td>?</td>\n",
       "    </tr>\n",
       "    <tr>\n",
       "      <th>...</th>\n",
       "      <td>...</td>\n",
       "      <td>...</td>\n",
       "      <td>...</td>\n",
       "    </tr>\n",
       "    <tr>\n",
       "      <th>21442</th>\n",
       "      <td>2360</td>\n",
       "      <td>1390</td>\n",
       "      <td>?</td>\n",
       "    </tr>\n",
       "    <tr>\n",
       "      <th>21447</th>\n",
       "      <td>2330</td>\n",
       "      <td>2330</td>\n",
       "      <td>?</td>\n",
       "    </tr>\n",
       "    <tr>\n",
       "      <th>21473</th>\n",
       "      <td>980</td>\n",
       "      <td>980</td>\n",
       "      <td>?</td>\n",
       "    </tr>\n",
       "    <tr>\n",
       "      <th>21519</th>\n",
       "      <td>2380</td>\n",
       "      <td>2380</td>\n",
       "      <td>?</td>\n",
       "    </tr>\n",
       "    <tr>\n",
       "      <th>21581</th>\n",
       "      <td>3410</td>\n",
       "      <td>3410</td>\n",
       "      <td>?</td>\n",
       "    </tr>\n",
       "  </tbody>\n",
       "</table>\n",
       "<p>454 rows × 3 columns</p>\n",
       "</div>"
      ],
      "text/plain": [
       "       sqft_living  sqft_above sqft_basement\n",
       "6             1715        1715             ?\n",
       "18            1200        1200             ?\n",
       "42            3595        3595             ?\n",
       "79            3450        3450             ?\n",
       "112           1540        1160             ?\n",
       "...            ...         ...           ...\n",
       "21442         2360        1390             ?\n",
       "21447         2330        2330             ?\n",
       "21473          980         980             ?\n",
       "21519         2380        2380             ?\n",
       "21581         3410        3410             ?\n",
       "\n",
       "[454 rows x 3 columns]"
      ]
     },
     "execution_count": 154,
     "metadata": {},
     "output_type": "execute_result"
    }
   ],
   "source": [
    "aa['sqft_basement'].map(lambda x: 0 if (x=='?') else float(x))\n",
    "\n",
    "aa[aa['sqft_basement']== '?']\n",
    "\n",
    "\n",
    "\n"
   ]
  },
  {
   "cell_type": "code",
   "execution_count": 86,
   "metadata": {},
   "outputs": [
    {
     "ename": "KeyError",
     "evalue": "\"None of [Int64Index([1180, 2570,  770, 1960, 1680, 5420, 1715, 1060, 1780, 1890,\\n            ...\\n            2270, 1490, 2520, 3510, 1310, 1530, 2310, 1020, 1600, 1020],\\n           dtype='int64', length=21597)] are in the [columns]\"",
     "output_type": "error",
     "traceback": [
      "\u001b[0;31m---------------------------------------------------------------------------\u001b[0m",
      "\u001b[0;31mKeyError\u001b[0m                                  Traceback (most recent call last)",
      "\u001b[0;32m<ipython-input-86-191d6e6eceee>\u001b[0m in \u001b[0;36m<module>\u001b[0;34m\u001b[0m\n\u001b[0;32m----> 1\u001b[0;31m \u001b[0mdf\u001b[0m\u001b[0;34m[\u001b[0m\u001b[0mdf\u001b[0m\u001b[0;34m[\u001b[0m\u001b[0;34m'sqft_living'\u001b[0m\u001b[0;34m]\u001b[0m\u001b[0;34m]\u001b[0m \u001b[0;34m==\u001b[0m \u001b[0mdf\u001b[0m\u001b[0;34m[\u001b[0m\u001b[0mdf\u001b[0m\u001b[0;34m[\u001b[0m\u001b[0;34m'sqft_above'\u001b[0m\u001b[0;34m]\u001b[0m\u001b[0;34m]\u001b[0m \u001b[0;34m+\u001b[0m \u001b[0mdf\u001b[0m\u001b[0;34m[\u001b[0m\u001b[0mdf\u001b[0m\u001b[0;34m[\u001b[0m\u001b[0;34m'sqft_basement'\u001b[0m\u001b[0;34m]\u001b[0m\u001b[0;34m]\u001b[0m\u001b[0;34m\u001b[0m\u001b[0;34m\u001b[0m\u001b[0m\n\u001b[0m",
      "\u001b[0;32m~/opt/anaconda3/envs/learn-env/lib/python3.8/site-packages/pandas/core/frame.py\u001b[0m in \u001b[0;36m__getitem__\u001b[0;34m(self, key)\u001b[0m\n\u001b[1;32m   2906\u001b[0m             \u001b[0;32mif\u001b[0m \u001b[0mis_iterator\u001b[0m\u001b[0;34m(\u001b[0m\u001b[0mkey\u001b[0m\u001b[0;34m)\u001b[0m\u001b[0;34m:\u001b[0m\u001b[0;34m\u001b[0m\u001b[0;34m\u001b[0m\u001b[0m\n\u001b[1;32m   2907\u001b[0m                 \u001b[0mkey\u001b[0m \u001b[0;34m=\u001b[0m \u001b[0mlist\u001b[0m\u001b[0;34m(\u001b[0m\u001b[0mkey\u001b[0m\u001b[0;34m)\u001b[0m\u001b[0;34m\u001b[0m\u001b[0;34m\u001b[0m\u001b[0m\n\u001b[0;32m-> 2908\u001b[0;31m             \u001b[0mindexer\u001b[0m \u001b[0;34m=\u001b[0m \u001b[0mself\u001b[0m\u001b[0;34m.\u001b[0m\u001b[0mloc\u001b[0m\u001b[0;34m.\u001b[0m\u001b[0m_get_listlike_indexer\u001b[0m\u001b[0;34m(\u001b[0m\u001b[0mkey\u001b[0m\u001b[0;34m,\u001b[0m \u001b[0maxis\u001b[0m\u001b[0;34m=\u001b[0m\u001b[0;36m1\u001b[0m\u001b[0;34m,\u001b[0m \u001b[0mraise_missing\u001b[0m\u001b[0;34m=\u001b[0m\u001b[0;32mTrue\u001b[0m\u001b[0;34m)\u001b[0m\u001b[0;34m[\u001b[0m\u001b[0;36m1\u001b[0m\u001b[0;34m]\u001b[0m\u001b[0;34m\u001b[0m\u001b[0;34m\u001b[0m\u001b[0m\n\u001b[0m\u001b[1;32m   2909\u001b[0m \u001b[0;34m\u001b[0m\u001b[0m\n\u001b[1;32m   2910\u001b[0m         \u001b[0;31m# take() does not accept boolean indexers\u001b[0m\u001b[0;34m\u001b[0m\u001b[0;34m\u001b[0m\u001b[0;34m\u001b[0m\u001b[0m\n",
      "\u001b[0;32m~/opt/anaconda3/envs/learn-env/lib/python3.8/site-packages/pandas/core/indexing.py\u001b[0m in \u001b[0;36m_get_listlike_indexer\u001b[0;34m(self, key, axis, raise_missing)\u001b[0m\n\u001b[1;32m   1252\u001b[0m             \u001b[0mkeyarr\u001b[0m\u001b[0;34m,\u001b[0m \u001b[0mindexer\u001b[0m\u001b[0;34m,\u001b[0m \u001b[0mnew_indexer\u001b[0m \u001b[0;34m=\u001b[0m \u001b[0max\u001b[0m\u001b[0;34m.\u001b[0m\u001b[0m_reindex_non_unique\u001b[0m\u001b[0;34m(\u001b[0m\u001b[0mkeyarr\u001b[0m\u001b[0;34m)\u001b[0m\u001b[0;34m\u001b[0m\u001b[0;34m\u001b[0m\u001b[0m\n\u001b[1;32m   1253\u001b[0m \u001b[0;34m\u001b[0m\u001b[0m\n\u001b[0;32m-> 1254\u001b[0;31m         \u001b[0mself\u001b[0m\u001b[0;34m.\u001b[0m\u001b[0m_validate_read_indexer\u001b[0m\u001b[0;34m(\u001b[0m\u001b[0mkeyarr\u001b[0m\u001b[0;34m,\u001b[0m \u001b[0mindexer\u001b[0m\u001b[0;34m,\u001b[0m \u001b[0maxis\u001b[0m\u001b[0;34m,\u001b[0m \u001b[0mraise_missing\u001b[0m\u001b[0;34m=\u001b[0m\u001b[0mraise_missing\u001b[0m\u001b[0;34m)\u001b[0m\u001b[0;34m\u001b[0m\u001b[0;34m\u001b[0m\u001b[0m\n\u001b[0m\u001b[1;32m   1255\u001b[0m         \u001b[0;32mreturn\u001b[0m \u001b[0mkeyarr\u001b[0m\u001b[0;34m,\u001b[0m \u001b[0mindexer\u001b[0m\u001b[0;34m\u001b[0m\u001b[0;34m\u001b[0m\u001b[0m\n\u001b[1;32m   1256\u001b[0m \u001b[0;34m\u001b[0m\u001b[0m\n",
      "\u001b[0;32m~/opt/anaconda3/envs/learn-env/lib/python3.8/site-packages/pandas/core/indexing.py\u001b[0m in \u001b[0;36m_validate_read_indexer\u001b[0;34m(self, key, indexer, axis, raise_missing)\u001b[0m\n\u001b[1;32m   1296\u001b[0m             \u001b[0;32mif\u001b[0m \u001b[0mmissing\u001b[0m \u001b[0;34m==\u001b[0m \u001b[0mlen\u001b[0m\u001b[0;34m(\u001b[0m\u001b[0mindexer\u001b[0m\u001b[0;34m)\u001b[0m\u001b[0;34m:\u001b[0m\u001b[0;34m\u001b[0m\u001b[0;34m\u001b[0m\u001b[0m\n\u001b[1;32m   1297\u001b[0m                 \u001b[0maxis_name\u001b[0m \u001b[0;34m=\u001b[0m \u001b[0mself\u001b[0m\u001b[0;34m.\u001b[0m\u001b[0mobj\u001b[0m\u001b[0;34m.\u001b[0m\u001b[0m_get_axis_name\u001b[0m\u001b[0;34m(\u001b[0m\u001b[0maxis\u001b[0m\u001b[0;34m)\u001b[0m\u001b[0;34m\u001b[0m\u001b[0;34m\u001b[0m\u001b[0m\n\u001b[0;32m-> 1298\u001b[0;31m                 \u001b[0;32mraise\u001b[0m \u001b[0mKeyError\u001b[0m\u001b[0;34m(\u001b[0m\u001b[0;34mf\"None of [{key}] are in the [{axis_name}]\"\u001b[0m\u001b[0;34m)\u001b[0m\u001b[0;34m\u001b[0m\u001b[0;34m\u001b[0m\u001b[0m\n\u001b[0m\u001b[1;32m   1299\u001b[0m \u001b[0;34m\u001b[0m\u001b[0m\n\u001b[1;32m   1300\u001b[0m             \u001b[0;31m# We (temporarily) allow for some missing keys with .loc, except in\u001b[0m\u001b[0;34m\u001b[0m\u001b[0;34m\u001b[0m\u001b[0;34m\u001b[0m\u001b[0m\n",
      "\u001b[0;31mKeyError\u001b[0m: \"None of [Int64Index([1180, 2570,  770, 1960, 1680, 5420, 1715, 1060, 1780, 1890,\\n            ...\\n            2270, 1490, 2520, 3510, 1310, 1530, 2310, 1020, 1600, 1020],\\n           dtype='int64', length=21597)] are in the [columns]\""
     ]
    }
   ],
   "source": [
    "df[df['sqft_living']] == df[df['sqft_above']] + df[df['sqft_basement']]"
   ]
  },
  {
   "cell_type": "code",
   "execution_count": null,
   "metadata": {},
   "outputs": [],
   "source": []
  }
 ],
 "metadata": {
  "colab": {
   "collapsed_sections": [],
   "include_colab_link": true,
   "name": "P2_Project.ipynb",
   "provenance": []
  },
  "kernelspec": {
   "display_name": "Python 3",
   "language": "python",
   "name": "python3"
  },
  "language_info": {
   "codemirror_mode": {
    "name": "ipython",
    "version": 3
   },
   "file_extension": ".py",
   "mimetype": "text/x-python",
   "name": "python",
   "nbconvert_exporter": "python",
   "pygments_lexer": "ipython3",
   "version": "3.8.5"
  }
 },
 "nbformat": 4,
 "nbformat_minor": 1
}
