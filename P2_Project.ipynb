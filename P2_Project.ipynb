{
 "cells": [
  {
   "cell_type": "markdown",
   "metadata": {
    "colab_type": "text",
    "id": "view-in-github"
   },
   "source": [
    "<a href=\"https://colab.research.google.com/github/iansharff/king_county_housing/blob/main/P2_Project.ipynb\" target=\"_parent\"><img src=\"https://colab.research.google.com/assets/colab-badge.svg\" alt=\"Open In Colab\"/></a>"
   ]
  },
  {
   "cell_type": "markdown",
   "metadata": {
    "id": "toeVcIL61W5M"
   },
   "source": [
    "# **Phase 2 Project Notebook - King County House Sales Dataset**\n",
    "\n",
    "Authors: Ben M, Samantha, Ian, Sanjit"
   ]
  },
  {
   "cell_type": "markdown",
   "metadata": {
    "id": "-v4Qa_Qx2c6I"
   },
   "source": [
    "# **Table of Contents** <a name=\"🔝\"></a>\n",
    "\n",
    "\n",
    "[✨ To-Do's ✨](#td_main)\n",
    "\n",
    "\n",
    "*Markdown examples for use with later sections of NB*\n",
    "1. [Importing Packages and Reading Data](#imports)\n",
    "2. [Section 2](#s2)\n",
    "\n",
    "test\n",
    "test\n",
    "test\n"
   ]
  },
  {
   "cell_type": "markdown",
   "metadata": {
    "id": "xABMxGAz2c3n"
   },
   "source": [
    "## References and Reminders:\n",
    "\n",
    "---\n",
    "**Reference Links**\n",
    "\n",
    "[Project Launch Slides](#https://docs.google.com/presentation/d/1V35_n5Zof-KvfJvkbp8g847CGa9cK7hHLk-6VBUYULg/edit#slide=id.g8067c3178c_0_0)\n",
    "\n",
    "[Grading Rubric](https://docs.google.com/document/d/1ILvwpx8b9VvV8JLBc6FgZylTet5wNvyZFmpI67wk_8E/edit)\n",
    "\n",
    "[Project Templates Repo](https://github.com/BenJMcCarty/dsc-project-template)\n",
    "\n",
    "[Data Science Processes](#https://github.com/learn-co-curriculum/dsc-data-science-processes)\n",
    "\n",
    "---\n",
    "\n",
    "**REMINDER** To get datasets from external sources:\n",
    "\n",
    "1. [Go to GitHub repo](#https://github.com/BenJMcCarty/dsc-ols-statsmodels-lab)\n",
    "2. [Click on data file name in repository list](#https://github.com/BenJMcCarty/dsc-ols-statsmodels-lab/blob/master/advertising.csv)\n",
    "3. [Select \"raw\" from two buttons on left-side above the data](#https://raw.githubusercontent.com/BenJMcCarty/dsc-ols-statsmodels-lab/961d1d4a93790d2c09bcab561d8d2129cc2efa3a/advertising.csv)\n",
    "\n",
    "![image.png](data:image/png;base64,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)\n",
    "\n",
    "***To read data from the cloud into a JNB:***\n",
    "\n",
    "```\n",
    "file_url = 'https://raw.githubusercontent.com/BenJMcCarty/dsc-ols-statsmodels-lab/961d1d4a93790d2c09bcab561d8d2129cc2efa3a/advertising.csv'\n",
    "\n",
    "data = pd.read_csv(file_url, index_col=0)\n",
    "```\n"
   ]
  },
  {
   "cell_type": "markdown",
   "metadata": {
    "id": "FShWp4P-2c1O"
   },
   "source": [
    "# ✨ To-Do's ✨ <a name=\"td_main\"></a>\n",
    "\n",
    ">* ❗ - Review and update these sections\n",
    ">* **Test**\n",
    ">* *Test*\n",
    "---\n",
    "\n",
    ">* ❗ [Section 1](#s1)\n",
    ">* ❗ [Section 2](#s2)\n",
    ">* ❗ [Section 3](#s3)\n",
    ">* ❗ [Section 4](#s4)\n",
    ">* ❗ [Section 5](#s5)\n",
    ">* ❗ [Section 6](#s6)\n",
    ">* ❗ [Section 7](#s7)\n"
   ]
  },
  {
   "cell_type": "markdown",
   "metadata": {
    "id": "ts6Jzl_z5gJV"
   },
   "source": [
    "# Importing Packages and Reading Data <a name=\"imports\"></a>"
   ]
  },
  {
   "cell_type": "markdown",
   "metadata": {
    "id": "VSzCs9SB6p45"
   },
   "source": [
    "# Section 2 <a name=\"s2\"></a>"
   ]
  },
  {
   "cell_type": "markdown",
   "metadata": {
    "id": "IHN3MY4B6p0h"
   },
   "source": []
  },
  {
   "cell_type": "code",
   "execution_count": 1,
   "metadata": {},
   "outputs": [],
   "source": [
    "import pandas as pd"
   ]
  },
  {
   "cell_type": "code",
   "execution_count": 2,
   "metadata": {},
   "outputs": [],
   "source": [
    "df = pd.read_csv('data/kc_house_data.csv')"
   ]
  },
  {
   "cell_type": "code",
   "execution_count": 4,
   "metadata": {},
   "outputs": [
    {
     "name": "stdout",
     "output_type": "stream",
     "text": [
      "<class 'pandas.core.frame.DataFrame'>\n",
      "RangeIndex: 21597 entries, 0 to 21596\n",
      "Data columns (total 21 columns):\n",
      " #   Column         Non-Null Count  Dtype  \n",
      "---  ------         --------------  -----  \n",
      " 0   id             21597 non-null  int64  \n",
      " 1   date           21597 non-null  object \n",
      " 2   price          21597 non-null  float64\n",
      " 3   bedrooms       21597 non-null  int64  \n",
      " 4   bathrooms      21597 non-null  float64\n",
      " 5   sqft_living    21597 non-null  int64  \n",
      " 6   sqft_lot       21597 non-null  int64  \n",
      " 7   floors         21597 non-null  float64\n",
      " 8   waterfront     19221 non-null  float64\n",
      " 9   view           21534 non-null  float64\n",
      " 10  condition      21597 non-null  int64  \n",
      " 11  grade          21597 non-null  int64  \n",
      " 12  sqft_above     21597 non-null  int64  \n",
      " 13  sqft_basement  21597 non-null  object \n",
      " 14  yr_built       21597 non-null  int64  \n",
      " 15  yr_renovated   17755 non-null  float64\n",
      " 16  zipcode        21597 non-null  int64  \n",
      " 17  lat            21597 non-null  float64\n",
      " 18  long           21597 non-null  float64\n",
      " 19  sqft_living15  21597 non-null  int64  \n",
      " 20  sqft_lot15     21597 non-null  int64  \n",
      "dtypes: float64(8), int64(11), object(2)\n",
      "memory usage: 3.5+ MB\n"
     ]
    }
   ],
   "source": [
    "df.info()"
   ]
  },
  {
   "cell_type": "code",
   "execution_count": null,
   "metadata": {},
   "outputs": [],
   "source": []
  }
 ],
 "metadata": {
  "colab": {
   "collapsed_sections": [],
   "include_colab_link": true,
   "name": "P2_Project.ipynb",
   "provenance": []
  },
  "kernelspec": {
   "display_name": "Python 3",
   "language": "python",
   "name": "python3"
  },
  "language_info": {
   "codemirror_mode": {
    "name": "ipython",
    "version": 3
   },
   "file_extension": ".py",
   "mimetype": "text/x-python",
   "name": "python",
   "nbconvert_exporter": "python",
   "pygments_lexer": "ipython3",
   "version": "3.8.5"
  }
 },
 "nbformat": 4,
 "nbformat_minor": 1
}
