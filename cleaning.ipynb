{
 "cells": [
  {
   "cell_type": "markdown",
   "metadata": {},
   "source": [
    "# Data Cleaning Process"
   ]
  },
  {
   "cell_type": "code",
   "execution_count": 1,
   "metadata": {},
   "outputs": [],
   "source": [
    "import numpy as np\n",
    "import pandas as pd\n",
    "import matplotlib.pyplot as plt\n",
    "import seaborn as sns\n",
    "\n",
    "%matplotlib inline"
   ]
  },
  {
   "cell_type": "code",
   "execution_count": 2,
   "metadata": {},
   "outputs": [
    {
     "name": "stdout",
     "output_type": "stream",
     "text": [
      "<class 'pandas.core.frame.DataFrame'>\n",
      "RangeIndex: 21597 entries, 0 to 21596\n",
      "Data columns (total 21 columns):\n",
      " #   Column         Non-Null Count  Dtype  \n",
      "---  ------         --------------  -----  \n",
      " 0   id             21597 non-null  int64  \n",
      " 1   date           21597 non-null  object \n",
      " 2   price          21597 non-null  float64\n",
      " 3   bedrooms       21597 non-null  int64  \n",
      " 4   bathrooms      21597 non-null  float64\n",
      " 5   sqft_living    21597 non-null  int64  \n",
      " 6   sqft_lot       21597 non-null  int64  \n",
      " 7   floors         21597 non-null  float64\n",
      " 8   waterfront     19221 non-null  float64\n",
      " 9   view           21534 non-null  float64\n",
      " 10  condition      21597 non-null  int64  \n",
      " 11  grade          21597 non-null  int64  \n",
      " 12  sqft_above     21597 non-null  int64  \n",
      " 13  sqft_basement  21597 non-null  object \n",
      " 14  yr_built       21597 non-null  int64  \n",
      " 15  yr_renovated   17755 non-null  float64\n",
      " 16  zipcode        21597 non-null  int64  \n",
      " 17  lat            21597 non-null  float64\n",
      " 18  long           21597 non-null  float64\n",
      " 19  sqft_living15  21597 non-null  int64  \n",
      " 20  sqft_lot15     21597 non-null  int64  \n",
      "dtypes: float64(8), int64(11), object(2)\n",
      "memory usage: 3.5+ MB\n"
     ]
    }
   ],
   "source": [
    "df = pd.read_csv('data/kc_house_data.csv')\n",
    "df.info()"
   ]
  },
  {
   "cell_type": "markdown",
   "metadata": {},
   "source": [
    "## Handling Missing Values"
   ]
  },
  {
   "cell_type": "markdown",
   "metadata": {},
   "source": [
    "#### Exploring incomplete features"
   ]
  },
  {
   "cell_type": "code",
   "execution_count": 3,
   "metadata": {},
   "outputs": [],
   "source": [
    "def null_heatmap(df, cmap='Greens_r'):\n",
    "    return sns.heatmap(df.isnull(), yticklabels=False, cbar=False, cmap=cmap)"
   ]
  },
  {
   "cell_type": "code",
   "execution_count": 4,
   "metadata": {},
   "outputs": [
    {
     "data": {
      "image/png": "[encoded data removed]",
      "text/plain": [
       "<Figure size 432x288 with 1 Axes>"
      ]
     },
     "metadata": {
      "needs_background": "light"
     },
     "output_type": "display_data"
    }
   ],
   "source": [
    "null_heatmap(df);"
   ]
  },
  {
   "cell_type": "code",
   "execution_count": 24,
   "metadata": {},
   "outputs": [],
   "source": [
    "def percent_nan(df):\n",
    "    \"\"\"Return a Series of percent NaN values in each column of a DataFrame\"\"\"\n",
    "    nulls = df.isnull().sum()\n",
    "    length = len(df.index)\n",
    "    return nulls / length if length != 0 else None\n",
    "\n",
    "\n",
    "def display_percent_nan(df):\n",
    "    \"\"\"Display formatted percent-NaN-values for each column of a DataFrame\"\"\"\n",
    "    series = percent_nan(df)\n",
    "    for column in series.index:\n",
    "        print(f\"{column} : {100 * series.at[column]:.2f} % null\")\n",
    "        \n",
    "def get_value_counts(df):\n",
    "    \"\"\"Display value counts values in each column of a DataFrame\"\"\"\n",
    "    for col in df.columns:\n",
    "        print(col, ':')\n",
    "        print(df[col].value_counts(dropna=False))   \n",
    "        \n",
    "def mode_fill(df, column=None):\n",
    "    if column:\n",
    "        df[column].fillna(df[column].mode()[0], inplace=True)"
   ]
  },
  {
   "cell_type": "code",
   "execution_count": 25,
   "metadata": {},
   "outputs": [
    {
     "name": "stdout",
     "output_type": "stream",
     "text": [
      "id : 0.00 % null\n",
      "date : 0.00 % null\n",
      "price : 0.00 % null\n",
      "bedrooms : 0.00 % null\n",
      "bathrooms : 0.00 % null\n",
      "sqft_living : 0.00 % null\n",
      "sqft_lot : 0.00 % null\n",
      "floors : 0.00 % null\n",
      "waterfront : 11.00 % null\n",
      "view : 0.29 % null\n",
      "condition : 0.00 % null\n",
      "grade : 0.00 % null\n",
      "sqft_above : 0.00 % null\n",
      "sqft_basement : 0.00 % null\n",
      "yr_built : 0.00 % null\n",
      "yr_renovated : 17.79 % null\n",
      "zipcode : 0.00 % null\n",
      "lat : 0.00 % null\n",
      "long : 0.00 % null\n",
      "sqft_living15 : 0.00 % null\n",
      "sqft_lot15 : 0.00 % null\n"
     ]
    }
   ],
   "source": [
    "display_percent_nan(df)"
   ]
  },
  {
   "cell_type": "code",
   "execution_count": 8,
   "metadata": {},
   "outputs": [],
   "source": [
    "# Make copy of the dataframe\n",
    "final_df = df.copy()"
   ]
  },
  {
   "cell_type": "code",
   "execution_count": 9,
   "metadata": {},
   "outputs": [],
   "source": [
    "# 'waterfront' feature\n",
    "\n",
    "# Replace NaN's in 'waterfront' and 'view' columns with the mode. \n",
    "mode_fill(final_df, 'waterfront')\n",
    "mode_fill(final_df, 'view')"
   ]
  },
  {
   "cell_type": "code",
   "execution_count": 10,
   "metadata": {},
   "outputs": [
    {
     "name": "stdout",
     "output_type": "stream",
     "text": [
      "id: 0.00 % null\n",
      "date: 0.00 % null\n",
      "price: 0.00 % null\n",
      "bedrooms: 0.00 % null\n",
      "bathrooms: 0.00 % null\n",
      "sqft_living: 0.00 % null\n",
      "sqft_lot: 0.00 % null\n",
      "floors: 0.00 % null\n",
      "waterfront: 0.00 % null\n",
      "view: 0.00 % null\n",
      "condition: 0.00 % null\n",
      "grade: 0.00 % null\n",
      "sqft_above: 0.00 % null\n",
      "sqft_basement: 0.00 % null\n",
      "yr_built: 0.00 % null\n",
      "yr_renovated: 17.79 % null\n",
      "zipcode: 0.00 % null\n",
      "lat: 0.00 % null\n",
      "long: 0.00 % null\n",
      "sqft_living15: 0.00 % null\n",
      "sqft_lot15: 0.00 % null\n"
     ]
    }
   ],
   "source": [
    "display_percent_nan(final_df)"
   ]
  },
  {
   "cell_type": "code",
   "execution_count": 11,
   "metadata": {},
   "outputs": [
    {
     "data": {
      "text/plain": [
       "0.0       0.958096\n",
       "2014.0    0.004112\n",
       "2003.0    0.001746\n",
       "2013.0    0.001746\n",
       "2007.0    0.001690\n",
       "            ...   \n",
       "1946.0    0.000056\n",
       "1959.0    0.000056\n",
       "1971.0    0.000056\n",
       "1951.0    0.000056\n",
       "1954.0    0.000056\n",
       "Name: yr_renovated, Length: 70, dtype: float64"
      ]
     },
     "execution_count": 11,
     "metadata": {},
     "output_type": "execute_result"
    }
   ],
   "source": [
    "# Check 'yr_renovated' column\n",
    "final_df['yr_renovated'].value_counts(normalize=True)"
   ]
  },
  {
   "cell_type": "code",
   "execution_count": 12,
   "metadata": {},
   "outputs": [],
   "source": [
    "# Mode fill 'yr_renovated' column since the vast majority of values are 0\n",
    "mode_fill(final_df, 'yr_renovated')"
   ]
  },
  {
   "cell_type": "code",
   "execution_count": 26,
   "metadata": {},
   "outputs": [
    {
     "name": "stdout",
     "output_type": "stream",
     "text": [
      "id : 0.00 % null\n",
      "date : 0.00 % null\n",
      "price : 0.00 % null\n",
      "bedrooms : 0.00 % null\n",
      "bathrooms : 0.00 % null\n",
      "sqft_living : 0.00 % null\n",
      "sqft_lot : 0.00 % null\n",
      "floors : 0.00 % null\n",
      "waterfront : 0.00 % null\n",
      "view : 0.00 % null\n",
      "condition : 0.00 % null\n",
      "grade : 0.00 % null\n",
      "sqft_above : 0.00 % null\n",
      "sqft_basement : 0.00 % null\n",
      "yr_built : 0.00 % null\n",
      "yr_renovated : 0.00 % null\n",
      "zipcode : 0.00 % null\n",
      "lat : 0.00 % null\n",
      "long : 0.00 % null\n",
      "sqft_living15 : 0.00 % null\n",
      "sqft_lot15 : 0.00 % null\n"
     ]
    }
   ],
   "source": [
    "display_percent_nan(final_df)"
   ]
  },
  {
   "cell_type": "code",
   "execution_count": null,
   "metadata": {},
   "outputs": [],
   "source": []
  }
 ],
 "metadata": {
  "kernelspec": {
   "display_name": "Python (learn-env)",
   "language": "python",
   "name": "learn-env"
  },
  "language_info": {
   "codemirror_mode": {
    "name": "ipython",
    "version": 3
   },
   "file_extension": ".py",
   "mimetype": "text/x-python",
   "name": "python",
   "nbconvert_exporter": "python",
   "pygments_lexer": "ipython3",
   "version": "3.8.5"
  }
 },
 "nbformat": 4,
 "nbformat_minor": 4
}
